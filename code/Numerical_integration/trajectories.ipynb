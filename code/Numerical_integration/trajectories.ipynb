{
 "cells": [
  {
   "attachments": {},
   "cell_type": "markdown",
   "metadata": {},
   "source": [
    "# Preamble"
   ]
  },
  {
   "cell_type": "code",
   "execution_count": 1,
   "metadata": {},
   "outputs": [],
   "source": [
    "import h5py\n",
    "import numpy as np\n",
    "import matplotlib\n",
    "import matplotlib.pyplot as plt\n",
    "import random\n",
    "import seaborn as sns\n",
    "from plot_params import params\n",
    "matplotlib.pylab.rcParams.update(params)"
   ]
  },
  {
   "cell_type": "code",
   "execution_count": 2,
   "metadata": {},
   "outputs": [],
   "source": [
    "yr = 2*np.pi\n",
    "Gyr = 1e9 * yr"
   ]
  },
  {
   "attachments": {},
   "cell_type": "markdown",
   "metadata": {},
   "source": [
    "# Load data"
   ]
  },
  {
   "attachments": {},
   "cell_type": "markdown",
   "metadata": {},
   "source": [
    "first axis: particle number (total 256) \\\n",
    "second axis: time \\\n",
    "third axis: values [time, x, y, z, v_x, v_y, v_z] \\\n",
    "\n",
    "units: \\\n",
    "-- time: year = 2*np.pi \\\n",
    "-- x,y,z: AU = 1 \\\n",
    "-- v_x,v_y,v_z: 30 km/s = 1 \\"
   ]
  },
  {
   "cell_type": "code",
   "execution_count": 3,
   "metadata": {},
   "outputs": [
    {
     "data": {
      "text/plain": [
       "(256, 10000, 7)"
      ]
     },
     "execution_count": 3,
     "metadata": {},
     "output_type": "execute_result"
    }
   ],
   "source": [
    "# Load data from JLD2 file\n",
    "with h5py.File('scratch2/sun_stride256.jld2', 'r') as f:\n",
    "    arr_forward = np.asarray(f['particle_txv'][:])\n",
    "np.shape(arr_forward)"
   ]
  },
  {
   "cell_type": "code",
   "execution_count": 4,
   "metadata": {},
   "outputs": [
    {
     "data": {
      "text/plain": [
       "(256, 10000, 7)"
      ]
     },
     "execution_count": 4,
     "metadata": {},
     "output_type": "execute_result"
    }
   ],
   "source": [
    "# Load data from JLD2 file\n",
    "with h5py.File('scratch2/earth_stride256.jld2', 'r') as f:\n",
    "    arr_backward = np.asarray(f['particle_txv'][:])\n",
    "np.shape(arr_backward)"
   ]
  },
  {
   "attachments": {},
   "cell_type": "markdown",
   "metadata": {},
   "source": [
    "# Functions"
   ]
  },
  {
   "cell_type": "code",
   "execution_count": 5,
   "metadata": {},
   "outputs": [],
   "source": [
    "def a_particle(vec):\n",
    "    x = vec[:,1:4]\n",
    "    v = vec[:,4:7]\n",
    "    e = 0.5 * np.linalg.norm(v,axis=1)**2 -1/np.linalg.norm(x,axis=1)\n",
    "    return -0.5 / e"
   ]
  },
  {
   "attachments": {},
   "cell_type": "markdown",
   "metadata": {},
   "source": [
    "# Forwards Plot"
   ]
  },
  {
   "cell_type": "code",
   "execution_count": 6,
   "metadata": {},
   "outputs": [
    {
     "name": "stderr",
     "output_type": "stream",
     "text": [
      "/var/folders/x1/dts9vq8x5016gkhg985pdgjm0001m4/T/ipykernel_98257/580469562.py:4: RuntimeWarning: divide by zero encountered in divide\n",
      "  e = 0.5 * np.linalg.norm(v,axis=1)**2 -1/np.linalg.norm(x,axis=1)\n"
     ]
    }
   ],
   "source": [
    "idx_0 = arr_forward[:,:,0]!=0\n",
    "\n",
    "arr_a_forward = np.zeros((np.shape(arr_forward)[0],np.shape(arr_forward)[1],2))\n",
    "for i in range(len(arr_forward)):\n",
    "    tmp_t = arr_forward[i,:,0] / Gyr\n",
    "    tmp_a = a_particle(arr_forward[i,:])\n",
    "    tmp_a[tmp_a<0.3]=np.nan\n",
    "    arr_a_forward[i,:,0]=tmp_t\n",
    "    arr_a_forward[i,:,1]=tmp_a"
   ]
  },
  {
   "attachments": {},
   "cell_type": "markdown",
   "metadata": {},
   "source": [
    "## Full Pollock"
   ]
  },
  {
   "cell_type": "code",
   "execution_count": 8,
   "metadata": {},
   "outputs": [],
   "source": [
    "fig,ax = plt.subplots(1,1,figsize=(16,8))\n",
    "pal = sns.color_palette('Set2')\n",
    "plt.rcParams['axes.prop_cycle'] = plt.cycler(color=pal)\n",
    "for i in range(len(arr_a_forward)):\n",
    "# for i in np.random.randint(low=0,high=len(arr_a),size=20):\n",
    "    ax.plot(arr_a_forward[i,:,0],arr_a_forward[i,:,1],alpha=0.5,lw=1)\n",
    "ax.set_xlim(0,4.5)\n",
    "ax.set_ylim(0.3,4)\n",
    "ax.set_yscale('log')\n",
    "# ax.set_yticks([0.3,0.4,0.5,0.6,0.7,0.8,0.9,1,2,3],minor=False)\n",
    "# ax.set_yticklabels(['$0.3$','','$0.5$','','$0.7$','','','$1$','$2$','$3$']);\n",
    "# ax.set_yticks([0.3,0.4,0.5,0.6,0.7,0.8,0.9,1,2,3],minor=True)\n",
    "ax.set_yticks([0.3,0.4,0.6,0.8,1,2,3,4],minor=False)\n",
    "ax.set_yticklabels(['$0.3$','$0.4$','$0.6$','$0.8$','$1$','$2$','$3$','$4$']);\n",
    "\n",
    "\n",
    "ax.set_xlabel(r'$t~\\mathrm{[Gyr]}$');\n",
    "ax.set_ylabel(r'$a~\\mathrm{[AU]}$');\n",
    "# ax.grid()"
   ]
  },
  {
   "attachments": {},
   "cell_type": "markdown",
   "metadata": {},
   "source": [
    "## Gray Pollock, plus highlights"
   ]
  },
  {
   "cell_type": "code",
   "execution_count": 20,
   "metadata": {},
   "outputs": [],
   "source": [
    "fig,ax = plt.subplots(1,1,figsize=(14,6))\n",
    "pal = sns.color_palette('Set2')\n",
    "plt.rcParams['axes.prop_cycle'] = plt.cycler(color=pal)\n",
    "for i in range(len(arr_a_forward)):\n",
    "# for i in np.random.randint(low=0,high=len(arr_a),size=20):\n",
    "    ax.plot(arr_a_forward[i,:,0],arr_a_forward[i,:,1],lw=.5,color=(0.2,0.2,0.2,0.2),rasterized=True)\n",
    "for i in range(0,len(arr_a_forward),8):\n",
    "    ax.plot(arr_a_forward[i,:,0],arr_a_forward[i,:,1],lw=1.5,rasterized=True)\n",
    "ax.set_xlim(0,4.5)\n",
    "ax.set_ylim(0.3,4)\n",
    "ax.set_yscale('log')\n",
    "# ax.set_yticks([0.3,0.4,0.5,0.6,0.7,0.8,0.9,1,2,3],minor=False)\n",
    "# ax.set_yticklabels(['$0.3$','','$0.5$','','$0.7$','','','$1$','$2$','$3$']);\n",
    "# ax.set_yticks([0.3,0.4,0.5,0.6,0.7,0.8,0.9,1,2,3],minor=True)\n",
    "ax.set_yticks([0.3,0.4,0.6,0.8,1,2,3,4],minor=False)\n",
    "ax.set_yticklabels(['$0.3$','$0.4$','$0.6$','$0.8$','$1$','$2$','$3$','$4$']);\n",
    "\n",
    "\n",
    "ax.set_xlabel(r'$t~\\mathrm{[Gyr]}$');\n",
    "ax.set_ylabel(r'$a~\\mathrm{[AU]}$');\n",
    "plt.savefig('../../figs/trajectories_forwards.pdf',bbox_inches='tight',dpi=200)\n",
    "# ax.grid()"
   ]
  },
  {
   "cell_type": "code",
   "execution_count": 22,
   "metadata": {},
   "outputs": [],
   "source": [
    "fig,ax = plt.subplots(1,1,figsize=(14,6))\n",
    "pal = sns.color_palette('Set2')\n",
    "plt.rcParams['axes.prop_cycle'] = plt.cycler(color=pal)\n",
    "for i in range(len(arr_a_forward)):\n",
    "# for i in np.random.randint(low=0,high=len(arr_a),size=20):\n",
    "    ax.plot(arr_a_forward[i,::10,0],arr_a_forward[i,::10,1],lw=.5,color=(0.2,0.2,0.2,0.2))\n",
    "for i in range(0,len(arr_a_forward),8):\n",
    "    ax.plot(arr_a_forward[i,::10,0],arr_a_forward[i,::10,1],lw=1.5)\n",
    "ax.set_xlim(0,4.5)\n",
    "ax.set_ylim(0.3,4)\n",
    "ax.set_yscale('log')\n",
    "# ax.set_yticks([0.3,0.4,0.5,0.6,0.7,0.8,0.9,1,2,3],minor=False)\n",
    "# ax.set_yticklabels(['$0.3$','','$0.5$','','$0.7$','','','$1$','$2$','$3$']);\n",
    "# ax.set_yticks([0.3,0.4,0.5,0.6,0.7,0.8,0.9,1,2,3],minor=True)\n",
    "ax.set_yticks([0.3,0.4,0.6,0.8,1,2,3,4],minor=False)\n",
    "ax.set_yticklabels(['$0.3$','$0.4$','$0.6$','$0.8$','$1$','$2$','$3$','$4$']);\n",
    "\n",
    "\n",
    "ax.set_xlabel(r'$t~\\mathrm{[Gyr]}$');\n",
    "ax.set_ylabel(r'$a~\\mathrm{[AU]}$');\n",
    "plt.savefig('../../figs/trajectories_forwards_2.pdf',bbox_inches='tight')\n",
    "# ax.grid()"
   ]
  },
  {
   "attachments": {},
   "cell_type": "markdown",
   "metadata": {},
   "source": [
    "# Backwards Plot"
   ]
  },
  {
   "cell_type": "code",
   "execution_count": 10,
   "metadata": {},
   "outputs": [
    {
     "name": "stderr",
     "output_type": "stream",
     "text": [
      "/var/folders/x1/dts9vq8x5016gkhg985pdgjm0001m4/T/ipykernel_98257/580469562.py:4: RuntimeWarning: divide by zero encountered in divide\n",
      "  e = 0.5 * np.linalg.norm(v,axis=1)**2 -1/np.linalg.norm(x,axis=1)\n"
     ]
    }
   ],
   "source": [
    "arr_a_backward = np.zeros((np.shape(arr_backward)[0],np.shape(arr_backward)[1],2))\n",
    "for i in range(len(arr_backward)):\n",
    "    tmp_t = arr_backward[i,:,0] / Gyr\n",
    "    tmp_a = a_particle(arr_backward[i,:])\n",
    "    tmp_a[tmp_a<0.3]=np.nan\n",
    "    arr_a_backward[i,:,0]=tmp_t\n",
    "    arr_a_backward[i,:,1]=tmp_a"
   ]
  },
  {
   "attachments": {},
   "cell_type": "markdown",
   "metadata": {},
   "source": [
    "## Full Pollock"
   ]
  },
  {
   "cell_type": "code",
   "execution_count": 11,
   "metadata": {},
   "outputs": [],
   "source": [
    "fig,ax = plt.subplots(1,1,figsize=(16,8))\n",
    "pal = sns.color_palette('Set2')\n",
    "plt.rcParams['axes.prop_cycle'] = plt.cycler(color=pal)\n",
    "for i in range(len(arr_a_backward)):\n",
    "# for i in np.random.randint(low=0,high=len(arr_a),size=20):\n",
    "    ax.plot(arr_a_backward[i,:,0],arr_a_backward[i,:,1],alpha=0.5,lw=1)\n",
    "ax.set_xlim(0,4.5)\n",
    "ax.set_ylim(0.3,4)\n",
    "ax.set_yscale('log')\n",
    "# ax.set_yticks([0.3,0.4,0.5,0.6,0.7,0.8,0.9,1,2,3],minor=False)\n",
    "# ax.set_yticklabels(['$0.3$','','$0.5$','','$0.7$','','','$1$','$2$','$3$']);\n",
    "# ax.set_yticks([0.3,0.4,0.5,0.6,0.7,0.8,0.9,1,2,3],minor=True)\n",
    "ax.set_yticks([0.3,0.4,0.6,0.8,1,2,3,4],minor=False)\n",
    "ax.set_yticklabels(['$0.3$','$0.4$','$0.6$','$0.8$','$1$','$2$','$3$','$4$']);\n",
    "\n",
    "\n",
    "ax.set_xlabel(r'$t~\\mathrm{[Gyr]}$');\n",
    "ax.set_ylabel(r'$a~\\mathrm{[AU]}$');\n",
    "# ax.grid()"
   ]
  },
  {
   "attachments": {},
   "cell_type": "markdown",
   "metadata": {},
   "source": [
    "## Gray Pollock, plus highlights"
   ]
  },
  {
   "cell_type": "code",
   "execution_count": 19,
   "metadata": {},
   "outputs": [],
   "source": [
    "fig,ax = plt.subplots(1,1,figsize=(14,6))\n",
    "pal = sns.color_palette('Set2')\n",
    "plt.rcParams['axes.prop_cycle'] = plt.cycler(color=pal)\n",
    "for i in range(len(arr_a_backward)):\n",
    "# for i in np.random.randint(low=0,high=len(arr_a),size=20):\n",
    "    ax.plot(arr_a_backward[i,:,0],arr_a_backward[i,:,1],lw=0.5,color=(0.2,0.2,0.2,0.2),rasterized=True)\n",
    "for i in range(0,len(arr_a_backward),8):\n",
    "    ax.plot(arr_a_backward[i,:,0],arr_a_backward[i,:,1],lw=1.5,alpha=1,rasterized=True)\n",
    "ax.set_xlim(0,4.5)\n",
    "ax.set_ylim(0.3,4)\n",
    "ax.set_yscale('log')\n",
    "# ax.set_yticks([0.3,0.4,0.5,0.6,0.7,0.8,0.9,1,2,3],minor=False)\n",
    "# ax.set_yticklabels(['$0.3$','','$0.5$','','$0.7$','','','$1$','$2$','$3$']);\n",
    "# ax.set_yticks([0.3,0.4,0.5,0.6,0.7,0.8,0.9,1,2,3],minor=True)\n",
    "ax.set_yticks([0.3,0.4,0.6,0.8,1,2,3,4],minor=False)\n",
    "ax.set_yticklabels(['$0.3$','$0.4$','$0.6$','$0.8$','$1$','$2$','$3$','$4$']);\n",
    "\n",
    "\n",
    "ax.set_xlabel(r'$t~\\mathrm{[Gyr]}$');\n",
    "ax.set_ylabel(r'$a~\\mathrm{[AU]}$');\n",
    "\n",
    "plt.savefig('../../figs/trajectories_backwards.pdf',bbox_inches='tight',dpi=200)\n",
    "# ax.grid()"
   ]
  },
  {
   "cell_type": "code",
   "execution_count": 23,
   "metadata": {},
   "outputs": [],
   "source": [
    "fig,ax = plt.subplots(1,1,figsize=(14,6))\n",
    "pal = sns.color_palette('Set2')\n",
    "plt.rcParams['axes.prop_cycle'] = plt.cycler(color=pal)\n",
    "for i in range(len(arr_a_backward)):\n",
    "# for i in np.random.randint(low=0,high=len(arr_a),size=20):\n",
    "    ax.plot(arr_a_backward[i,::10,0],arr_a_backward[i,::10,1],lw=0.5,color=(0.2,0.2,0.2,0.2))\n",
    "for i in range(0,len(arr_a_backward),8):\n",
    "    ax.plot(arr_a_backward[i,::10,0],arr_a_backward[i,::10,1],lw=1.5,alpha=1)\n",
    "ax.set_xlim(0,4.5)\n",
    "ax.set_ylim(0.3,4)\n",
    "ax.set_yscale('log')\n",
    "# ax.set_yticks([0.3,0.4,0.5,0.6,0.7,0.8,0.9,1,2,3],minor=False)\n",
    "# ax.set_yticklabels(['$0.3$','','$0.5$','','$0.7$','','','$1$','$2$','$3$']);\n",
    "# ax.set_yticks([0.3,0.4,0.5,0.6,0.7,0.8,0.9,1,2,3],minor=True)\n",
    "ax.set_yticks([0.3,0.4,0.6,0.8,1,2,3,4],minor=False)\n",
    "ax.set_yticklabels(['$0.3$','$0.4$','$0.6$','$0.8$','$1$','$2$','$3$','$4$']);\n",
    "\n",
    "\n",
    "ax.set_xlabel(r'$t~\\mathrm{[Gyr]}$');\n",
    "ax.set_ylabel(r'$a~\\mathrm{[AU]}$');\n",
    "\n",
    "plt.savefig('../../figs/trajectories_backwards_2.pdf',bbox_inches='tight')\n",
    "# ax.grid()"
   ]
  }
 ],
 "metadata": {
  "kernelspec": {
   "display_name": "Python 3 (ipykernel)",
   "language": "python",
   "name": "python3"
  },
  "language_info": {
   "codemirror_mode": {
    "name": "ipython",
    "version": 3
   },
   "file_extension": ".py",
   "mimetype": "text/x-python",
   "name": "python",
   "nbconvert_exporter": "python",
   "pygments_lexer": "ipython3",
   "version": "3.11.5"
  },
  "vscode": {
   "interpreter": {
    "hash": "510631e8e3a7aac476304f147c60add7d9724859ccccbee49c31fa82f7f81a72"
   }
  }
 },
 "nbformat": 4,
 "nbformat_minor": 4
}
